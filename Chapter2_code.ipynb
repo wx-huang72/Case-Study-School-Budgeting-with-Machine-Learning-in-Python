{
  "metadata": {
    "language_info": {
      "codemirror_mode": {
        "name": "python",
        "version": 3
      },
      "file_extension": ".py",
      "mimetype": "text/x-python",
      "name": "python",
      "nbconvert_exporter": "python",
      "pygments_lexer": "ipython3",
      "version": "3.8"
    },
    "kernelspec": {
      "name": "python",
      "display_name": "Python (Pyodide)",
      "language": "python"
    }
  },
  "nbformat_minor": 4,
  "nbformat": 4,
  "cells": [
    {
      "cell_type": "markdown",
      "source": "# Chapter 2\n## Setting up a train-test split in scikit-learn\nAlright, you've been patient and awesome. It's finally time to start training models!\n\nThe first step is to split the data into a training set and a test set. Some labels don't occur very often, but we want to make sure that they appear in both the training and the test sets. We provide a function that will make sure at least `min_count` examples of each label appear in each split: `multilabel_train_test_split`.\n\nFeel free to check out the full code for `multilabel_train_test_split` [here](https://github.com/drivendataorg/box-plots-sklearn/blob/master/src/data/multilabel.py).\n\nYou'll start with a simple model that uses **just the numeric columns** of your DataFrame when calling `multilabel_train_test_split`. The data has been read into a DataFrame `df` and a list consisting of just the numeric columns is available as `NUMERIC_COLUMNS`.\n\n### Instructions\n- Create a new DataFrame named `numeric_data_only` by applying the `.fillna(-1000)` method to the numeric columns (available in the list `NUMERIC_COLUMNS`) of `df`.\n- Convert the labels (available in the list `LABELS`) to dummy variables. Save the result as `label_dummies`.\n- In the call to `multilabel_train_test_split()`, set the `size` of your test set to be `0.2`. Use a `seed` of `123`.\n- Fill in the `.info()` method calls for `X_train`, `X_test`, `y_train`, and `y_test`.",
      "metadata": {}
    },
    {
      "cell_type": "code",
      "source": "# Create the new DataFrame: numeric_data_only\nnumeric_data_only = df[NUMERIC_COLUMNS].fillna(-1000)\n\n# Get labels and convert to dummy variables: label_dummies\nlabel_dummies = pd.get_dummies(df[LABELS])\n\n# Create training and test sets\nX_train, X_test, y_train, y_test = multilabel_train_test_split(numeric_data_only, label_dummies, size=0.2, seed=123)\n\n# Print the info\nprint(\"X_train info:\")\nprint(X_train.info())\nprint(\"\\nX_test info:\")  \nprint(X_test.info())\nprint(\"\\ny_train info:\")  \nprint(y_train.info())\nprint(\"\\ny_test info:\")  \nprint(y_test.info()) ",
      "metadata": {},
      "execution_count": null,
      "outputs": []
    },
    {
      "cell_type": "markdown",
      "source": "## Training a model\nWith split data in hand, you're only a few lines away from training a model.\n\nIn this exercise, you will import the logistic regression and one versus rest classifiers in order to fit a multi-class logistic regression model to the `NUMERIC_COLUMNS` of your feature data.\n\nThen you'll test and print the accuracy with the `.score()` method to see the results of training.\n\n**Before you train!** Remember, we're ultimately going to be using logloss to score our model, so don't worry too much about the accuracy here. Keep in mind that you're throwing away all of the text data in the dataset - that's by far most of the data! So don't get your hopes up for a killer performance just yet. We're just interested in getting things up and running at the moment.\n\nAll data necessary to call `multilabel_train_test_split()` has been loaded into the workspace.\n\n### Instructions\n- Import `LogisticRegression` from `sklearn.linear_model` and `OneVsRestClassifier` from `sklearn.multiclass`.\n- Instantiate the classifier `clf` by placing `LogisticRegression()` inside `OneVsRestClassifier()`.\n- Fit the classifier to the training data `X_train` and `y_train`.\n- Compute and print the accuracy of the classifier using its `.score()` method, which accepts two arguments: `X_test` and `y_test`.",
      "metadata": {}
    },
    {
      "cell_type": "code",
      "source": "# Import classifiers\nfrom sklearn.linear_model import LogisticRegression\nfrom sklearn.multiclass import OneVsRestClassifier\n\n# Create the DataFrame: numeric_data_only\nnumeric_data_only = df[NUMERIC_COLUMNS].fillna(-1000)\n\n# Get labels and convert to dummy variables: label_dummies\nlabel_dummies = pd.get_dummies(df[LABELS])\n\n# Create training and test sets\nX_train, X_test, y_train, y_test = multilabel_train_test_split(numeric_data_only,\n                                                               label_dummies,\n                                                               size=0.2, \n                                                               seed=123)\n\n# Instantiate the classifier: clf\nclf = OneVsRestClassifier(LogisticRegression())\n\n# Fit the classifier to the training data\nclf.fit(X_train, y_train)\n\n# Print the accuracy\nprint(\"Accuracy: {}\".format(clf.score(X_test, y_test)))",
      "metadata": {},
      "execution_count": null,
      "outputs": []
    },
    {
      "cell_type": "markdown",
      "source": "## Use your model to predict values on holdout data\nYou're ready to make some predictions! Remember, the train-test-split you've carried out so far is for model development. The original competition provides an additional test set, for which you'll never actually see the correct labels. This is called the \"holdout data.\"\n\nThe point of the holdout data is to provide a fair test for machine learning competitions. If the labels aren't known by anyone but DataCamp, DrivenData, or whoever is hosting the competition, you can be sure that no one submits a mere copy of labels to artificially pump up the performance on their model.\n\nRemember that the original goal is to predict the **probability of each label**. In this exercise you'll do just that by using the `.predict_proba()` method on your trained model.\n\nFirst, however, you'll need to load the holdout data, which is available in the workspace as the file `HoldoutData.csv`.\n\n### Instructions\n- Read `HoldoutData.csv` into a DataFrame called `holdout`. Specify the keyword argument `index_col=0` in your call to `read_csv()`.\n- Generate predictions using `.predict_proba()` on the numeric columns (available in the `NUMERIC_COLUMNS` list) of `holdout`. Make sure to fill in missing values with `-1000`!",
      "metadata": {}
    },
    {
      "cell_type": "code",
      "source": "# Instantiate the classifier: clf\nclf = OneVsRestClassifier(LogisticRegression())\n\n# Fit it to the training data\nclf.fit(X_train, y_train)\n\n# Load the holdout data: holdout\nholdout = pd.read_csv(\"HoldoutData.csv\", index_col = 0)\nholdout = holdout[NUMERIC_COLUMNS].fillna(-1000)\n\n# Generate predictions: predictions\npredictions = clf.predict_proba(holdout)",
      "metadata": {},
      "execution_count": null,
      "outputs": []
    },
    {
      "cell_type": "markdown",
      "source": "## Writing out your results to a csv for submission\nAt last, you're ready to submit some predictions for scoring. In this exercise, you'll write your predictions to a `.csv` using the `.to_csv()` method on a pandas DataFrame. Then you'll evaluate your performance according to the LogLoss metric discussed earlier!\n\nYou'll need to make sure your submission obeys the [correct format](https://www.drivendata.org/competitions/4/page/15/#sub_values).\n\nTo do this, you'll use your `predictions` values to create a new DataFrame, `prediction_df`.\n\n**Interpreting LogLoss & Beating the Benchmark:**\n\nWhen interpreting your log loss score, keep in mind that the score will change based on the number of samples tested. To get a sense of how this very basic model performs, compare your score to the **DrivenData benchmark model performance: 2.0455**, which merely submitted uniform probabilities for each class.\n\nRemember, the lower the log loss the better. Is your model's log loss lower than 2.0455?\n\n### Instructions\n- Create the `prediction_df` DataFrame by specifying the following arguments to the provided parameters `pd.DataFrame()`:\n- - `pd.get_dummies(df[LABELS]).columns`.\n- - `holdout.index`.\n- - `predictions`.\n- Save `prediction_df` to a csv file called `'predictions.csv'` using the `.to_csv()` method.\n- Submit the predictions for scoring by using the `score_submission()` function with `pred_path` set to `'predictions.csv'`.",
      "metadata": {}
    },
    {
      "cell_type": "code",
      "source": "# Generate predictions: predictions\npredictions = clf.predict_proba(holdout[NUMERIC_COLUMNS].fillna(-1000))\n\n# Format predictions in DataFrame: prediction_df\nprediction_df = pd.DataFrame(columns=pd.get_dummies(df[LABELS]).columns,\n                             index=holdout.index,\n                             data=predictions)\n\n\n# Save prediction_df to csv\nprediction_df.to_csv('predictions.csv')\n\n# Submit the predictions for scoring: score\nscore = score_submission(pred_path ='predictions.csv' )\n\n# Print score\nprint('Your model, trained with numeric data only, yields logloss score: {}'.format(score))",
      "metadata": {},
      "execution_count": null,
      "outputs": []
    },
    {
      "cell_type": "markdown",
      "source": "## Tokenizing text\nAs we talked about in the video, [tokenization](http://nlp.stanford.edu/IR-book/html/htmledition/tokenization-1.html) is the process of chopping up a character sequence into pieces called tokens.\n\nHow do we determine what constitutes a token? Often, tokens are separated by whitespace. But we can specify other delimiters as well. For example, if we decided to tokenize on punctuation, then any punctuation mark would be treated like a whitespace. How we tokenize text in our DataFrame can affect the statistics we use in our model.\n\nA particular cell in our budget DataFrame may have the string content `Title I - Disadvantaged Children/Targeted Assistance`. The number of n-grams generated by this text data is sensitive to whether or not we tokenize on punctuation, as you'll show in the following exercise.\n\nHow many tokens (1-grams) are in the string\n\n`Title I - Disadvantaged Children/Targeted Assistance`\nif we tokenize on whitespace and punctuation?\n\n**Possible Answers**\n\n(1) 4\n<span style='color:Green'>**(2) 6**</span>\n(3) 8\n(4) 13\n\nComment: Yes! Tokenizing on whitespace and punctuation means that Children/Targeted becomes two tokens and - is dropped altogether. Nice work!",
      "metadata": {}
    },
    {
      "cell_type": "markdown",
      "source": "## Testing your NLP credentials with n-grams\nYou're well on your way to NLP superiority. Let's test your mastery of n-grams!\n\nIn the workspace, we have the loaded a python list, `one_grams`, which contains all 1-grams of the string `petro-vend fuel and fluids`, tokenized on punctuation. Specifically,\n\n`one_grams = ['petro', 'vend', 'fuel', 'and', 'fluids']`\nIn this exercise, your job is to determine the sum of the sizes of 1-grams, 2-grams and 3-grams generated by the string `petro-vend fuel and fluids`, tokenized on punctuation.\n\nRecall that the n-gram of a sequence consists of all ordered subsequences of length n.\n\n**Possible Answers**\n\n(1) 3\n(2) 4\n(3) 7\n<span style='color:Green'>**(4) 12**</span>\n(5) 15\n\nComment: Bingo! The number of 1-grams + 2-grams + 3-grams is 5 + 4 + 3 = 12. NLP champion!",
      "metadata": {}
    },
    {
      "cell_type": "markdown",
      "source": "## Creating a bag-of-words in scikit-learn\nIn this exercise, you'll study the effects of tokenizing in different ways by comparing the bag-of-words representations resulting from different token patterns.\n\nYou will focus on one feature only, the `Position_Extra` column, which describes any additional information not captured by the `Position_Type` label.\n\nFor example, in the Shell you can check out the budget item in row 8960 of the data using `df.loc[8960]`. Looking at the output reveals that this `Object_Description` is overtime pay. For who? The Position Type is merely \"other\", but the Position Extra elaborates: \"BUS DRIVER\". Explore the column further to see more instances. It has a lot of NaN values.\n\nYour task is to turn the raw text in this column into a bag-of-words representation by creating tokens that contain only alphanumeric characters.\n\nFor comparison purposes, the first 15 tokens of `vec_basic`, which splits `df.Position_Extra` into tokens when it encounters only whitespace characters, have been printed along with the length of the representation.\n\n### Instructions\n- Import `CountVectorizer` from `sklearn.feature_extraction.text`.\n- Fill missing values in `df.Position_Extra` using `.fillna('')` to replace NaNs with empty strings. Specify the additional keyword argument `inplace=True` so that you don't have to assign the result back to `df`.\n- Instantiate the `CountVectorizer` as `vec_alphanumeric` by specifying the `token_pattern` to be `TOKENS_ALPHANUMERIC`.\n- Fit `vec_alphanumeric` to `df.Position_Extra`.\n- Hit submit to see the `len` of the fitted representation as well as the first 15 elements, and compare to `vec_basic`.",
      "metadata": {}
    },
    {
      "cell_type": "code",
      "source": "# Import CountVectorizer\nfrom sklearn.feature_extraction.text import CountVectorizer\n\n# Create the token pattern: TOKENS_ALPHANUMERIC\nTOKENS_ALPHANUMERIC = '[A-Za-z0-9]+(?=\\\\s+)'\n\n# Fill missing values in df.Position_Extra\ndf.Position_Extra.fillna('', inplace = True)\n\n# Instantiate the CountVectorizer: vec_alphanumeric\nvec_alphanumeric = CountVectorizer(token_pattern = TOKENS_ALPHANUMERIC)\n\n# Fit to the data\nvec_alphanumeric.fit(df.Position_Extra)\n\n# Print the number of tokens and first 15 tokens\nmsg = \"There are {} tokens in Position_Extra if we split on non-alpha numeric\"\nprint(msg.format(len(vec_alphanumeric.get_feature_names())))\nprint(vec_alphanumeric.get_feature_names()[:15])\n",
      "metadata": {},
      "execution_count": null,
      "outputs": []
    },
    {
      "cell_type": "markdown",
      "source": "## Combining text columns for tokenization\nIn order to get a bag-of-words representation for all of the text data in our DataFrame, you must first convert the text data in each row of the DataFrame into a single string.\n\nIn the previous exercise, this wasn't necessary because you only looked at one column of data, so each row was already just a single string. `CountVectorizer` expects each row to just be a single string, so in order to use all of the text columns, you'll need a method to turn a list of strings into a single string.\n\nIn this exercise, you'll complete the function definition `combine_text_columns()`. When completed, this function will convert all training text data in your DataFrame to a single string per row that can be passed to the vectorizer object and made into a bag-of-words using the `.fit_transform()` method.\n\nNote that the function uses `NUMERIC_COLUMNS` and `LABELS` to determine which columns to drop. These lists have been loaded into the workspace.\n\n### Instructions\n- Use the `.drop()` method on `data_frame` with `to_drop` and `axis=1` as arguments to drop the non-text data. Save the result as `text_data`.\n- Fill in missing values (inplace) in `text_data` with blanks (`\"\"`), using the `.fillna()` method.\n- Complete the `.apply()` method by writing a lambda function that uses the `.join()` method to join all the items in a row with a space in between.",
      "metadata": {}
    },
    {
      "cell_type": "code",
      "source": "# Define combine_text_columns()\ndef combine_text_columns(data_frame, to_drop=NUMERIC_COLUMNS + LABELS):\n    \"\"\" converts all text in each row of data_frame to single vector \"\"\"\n    \n    # Drop non-text columns that are in the df\n    to_drop = set(to_drop) & set(data_frame.columns.tolist())\n    text_data = data_frame.drop(to_drop, axis = 1)\n    \n    # Replace nans with blanks\n    text_data.fillna(\"\", inplace = True)\n    \n    # Join all text items in a row that have a space in between\n    return text_data.apply(lambda x: \" \".join(x), axis=1)",
      "metadata": {},
      "execution_count": null,
      "outputs": []
    },
    {
      "cell_type": "markdown",
      "source": "## What's in a token?\nNow you will use `combine_text_columns` to convert all training text data in your DataFrame to a single vector that can be passed to the vectorizer object and made into a bag-of-words using the `.fit_transform()` method.\n\nYou'll compare the effect of tokenizing using any non-whitespace characters as a token and using only alphanumeric characters as a token.\n\n### Instructions\n- Import `CountVectorizer` from `sklearn.feature_extraction.text`.\n- Instantiate `vec_basic` and `vec_alphanumeric` using, respectively, the `TOKENS_BASIC` and `TOKENS_ALPHANUMERIC` patterns.\n- Create the text vector by using the` combine_text_columns()` function on `df`.\n- Using the `.fit_transform()` method with `text_vector`, fit and transform first `vec_basic` and then `vec_alphanumeric`. Print the number of tokens they contain.",
      "metadata": {}
    },
    {
      "cell_type": "code",
      "source": "# Import the CountVectorizer\nfrom sklearn.feature_extraction.text import CountVectorizer\n\n# Create the basic token pattern\nTOKENS_BASIC = '\\\\S+(?=\\\\s+)'\n\n# Create the alphanumeric token pattern\nTOKENS_ALPHANUMERIC = '[A-Za-z0-9]+(?=\\\\s+)'\n\n# Instantiate basic CountVectorizer: vec_basic\nvec_basic = CountVectorizer(token_pattern = TOKENS_BASIC)\n\n# Instantiate alphanumeric CountVectorizer: vec_alphanumeric\nvec_alphanumeric = CountVectorizer(token_pattern = TOKENS_ALPHANUMERIC)\n\n# Create the text vector\ntext_vector = combine_text_columns(df)\n\n# Fit and transform vec_basic\nvec_basic.fit_transform(text_vector)\n\n# Print number of tokens of vec_basic\nprint(\"There are {} tokens in the dataset\".format(len(vec_basic.get_feature_names())))\n\n# Fit and transform vec_alphanumeric\nvec_alphanumeric.fit_transform(text_vector)\n\n# Print number of tokens of vec_alphanumeric\nprint(\"There are {} alpha-numeric tokens in the dataset\".format(len(vec_alphanumeric.get_feature_names())))",
      "metadata": {},
      "execution_count": null,
      "outputs": []
    }
  ]
}